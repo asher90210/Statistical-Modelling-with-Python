{
 "cells": [
  {
   "cell_type": "markdown",
   "metadata": {},
   "source": [
    "Build a regression model."
   ]
  },
  {
   "cell_type": "code",
   "execution_count": 5,
   "metadata": {},
   "outputs": [],
   "source": [
    "import requests\n",
    "import json\n",
    "import pandas as pd\n",
    "import csv\n",
    "import seaborn as sns\n",
    "import matplotlib.pyplot as plt\n",
    "import ast"
   ]
  },
  {
   "cell_type": "markdown",
   "metadata": {},
   "source": [
    "Provide model output and an interpretation of the results. "
   ]
  },
  {
   "cell_type": "code",
   "execution_count": 6,
   "metadata": {},
   "outputs": [],
   "source": [
    "merged_df = pd.read_csv(\"../csv_folder/bikes_places.csv\")\n"
   ]
  },
  {
   "cell_type": "markdown",
   "metadata": {},
   "source": [
    "H0: All coefficients = 0 (Being near POIs has no effect on free_bikes).\n",
    "\n",
    "H1: At least one coefficient != 0 (At least one of the POI categories has an impact on free_bikes)."
   ]
  },
  {
   "cell_type": "code",
   "execution_count": null,
   "metadata": {},
   "outputs": [
    {
     "name": "stdout",
     "output_type": "stream",
     "text": [
      "                            OLS Regression Results                            \n",
      "==============================================================================\n",
      "Dep. Variable:             free_bikes   R-squared:                       0.068\n",
      "Model:                            OLS   Adj. R-squared:                  0.063\n",
      "Method:                 Least Squares   F-statistic:                     13.63\n",
      "Date:                Tue, 29 Jul 2025   Prob (F-statistic):           7.45e-13\n",
      "Time:                        10:43:41   Log-Likelihood:                -3115.4\n",
      "No. Observations:                 937   AIC:                             6243.\n",
      "Df Residuals:                     931   BIC:                             6272.\n",
      "Df Model:                           5                                         \n",
      "Covariance Type:            nonrobust                                         \n",
      "==================================================================================\n",
      "                     coef    std err          t      P>|t|      [0.025      0.975]\n",
      "----------------------------------------------------------------------------------\n",
      "const              5.1707      6.058      0.854      0.394      -6.718      17.060\n",
      "Bar/Restaurant     1.2557      0.690      1.821      0.069      -0.098       2.609\n",
      "Bar               -0.1453      0.630     -0.230      0.818      -1.382       1.092\n",
      "Restaurant        -0.0455      0.607     -0.075      0.940      -1.236       1.145\n",
      "Park               0.9509      0.627      1.517      0.130      -0.280       2.181\n",
      "Other             -0.1706      0.667     -0.256      0.798      -1.479       1.138\n",
      "==============================================================================\n",
      "Omnibus:                      244.615   Durbin-Watson:                   1.902\n",
      "Prob(Omnibus):                  0.000   Jarque-Bera (JB):              611.852\n",
      "Skew:                           1.366   Prob(JB):                    1.37e-133\n",
      "Kurtosis:                       5.865   Cond. No.                         195.\n",
      "==============================================================================\n",
      "\n",
      "Notes:\n",
      "[1] Standard Errors assume that the covariance matrix of the errors is correctly specified.\n"
     ]
    }
   ],
   "source": [
    "import statsmodels.api as sm\n",
    "\n",
    "X = merged_df[['Bar/Restaurant','Bar', 'Restaurant','Park','Other']]  # INDEPENDENT VARIABLES\n",
    "y = merged_df['free_bikes']  # DEPENDENT VARIABLES\n",
    "\n",
    "X = sm.add_constant(X)  # INTERCEPT\n",
    "model = sm.OLS(y, X).fit()\n",
    "print(model.summary())"
   ]
  },
  {
   "cell_type": "markdown",
   "metadata": {},
   "source": [
    "### BAR/RESUAURANT:\n",
    "p = 0.69 -> Weak evidence but borderline at α = 0.05 \n",
    "\n",
    "### PARK\n",
    "p = 0.130 -> not significant\n",
    "\n",
    "### BAR\n",
    "p = 0.818 -> not significant\n",
    "\n",
    "### RESTAURANT\n",
    "p = 0.940 -> not significant\n",
    "\n",
    "### OTHER\n",
    "p = 0.798 -> not significant\n",
    "\n",
    "\n",
    "### Based on the numbers above, NULL hypothesis is true "
   ]
  },
  {
   "cell_type": "markdown",
   "metadata": {},
   "source": []
  },
  {
   "cell_type": "markdown",
   "metadata": {},
   "source": [
    "## Since free_bikes is a discrete, not continious Poisson regression is the right model"
   ]
  },
  {
   "cell_type": "code",
   "execution_count": null,
   "metadata": {},
   "outputs": [
    {
     "name": "stdout",
     "output_type": "stream",
     "text": [
      "                 Generalized Linear Model Regression Results                  \n",
      "==============================================================================\n",
      "Dep. Variable:             free_bikes   No. Observations:                  937\n",
      "Model:                            GLM   Df Residuals:                      931\n",
      "Model Family:                 Poisson   Df Model:                            5\n",
      "Link Function:                    Log   Scale:                          1.0000\n",
      "Method:                          IRLS   Log-Likelihood:                -4466.3\n",
      "Date:                Tue, 29 Jul 2025   Deviance:                       6174.4\n",
      "Time:                        10:43:44   Pearson chi2:                 6.41e+03\n",
      "No. Iterations:                     5   Pseudo R-squ. (CS):             0.3663\n",
      "Covariance Type:            nonrobust                                         \n",
      "=======================================================================================\n",
      "                          coef    std err          z      P>|z|      [0.025      0.975]\n",
      "---------------------------------------------------------------------------------------\n",
      "Intercept               1.7461      0.342      5.104      0.000       1.076       2.417\n",
      "Q(\"Bar/Restaurant\")     0.1688      0.038      4.418      0.000       0.094       0.244\n",
      "Bar                    -0.0273      0.036     -0.760      0.447      -0.097       0.043\n",
      "Restaurant             -0.0134      0.034     -0.390      0.697      -0.081       0.054\n",
      "Park                    0.1153      0.035      3.287      0.001       0.047       0.184\n",
      "Other                  -0.0367      0.038     -0.967      0.334      -0.111       0.038\n",
      "=======================================================================================\n"
     ]
    }
   ],
   "source": [
    "import statsmodels.api as sm\n",
    "import statsmodels.formula.api as smf\n",
    "\n",
    "# DEFINE THE FORMILA WITH PREDICTORS\n",
    "formula = 'free_bikes ~ Q(\"Bar/Restaurant\") + Bar + Restaurant + Park + Other'\n",
    "\n",
    "# FIT POISSON MODEL\n",
    "poisson_model = smf.glm(formula=formula, data=merged_df, family=sm.families.Poisson()).fit()\n",
    "\n",
    "print(poisson_model.summary())"
   ]
  },
  {
   "cell_type": "markdown",
   "metadata": {},
   "source": [
    "### Intercept = 1.7461 (p < 0.001)\n",
    "When all category indicators are 0 (baseline group), the expected number of free bikes is ~5.7\n",
    "\n",
    "### Bar/Restaurant \n",
    "Coefficient: 0.1688\n",
    "p < 0.001 -> Strong evidence\n",
    "\n",
    "## Bar\n",
    "Coefficient: -0.0273\n",
    "p = 0.447 -> Weak evidence\n",
    "\n",
    "## Restaurant\n",
    "Coefficient: -0.0134\n",
    "p = 0.697 -> Wak evidence\n",
    "\n",
    "## Park\n",
    "Coefficient: 0.1153\n",
    "P = 0.001 -> Strong evidence\n",
    "\n",
    "## Other\n",
    "Coefficient: -0.0367\n",
    "P = 0.334 -> Weak evidence\n",
    "\n",
    "\n",
    "\n",
    "### Based on the numbers above, we can reject the NULL hypothesis and we have Bar/Restaurant and Park categories  AS POIs that have an impact on free bikes\n",
    "\n",
    "\n",
    "\n"
   ]
  },
  {
   "cell_type": "markdown",
   "metadata": {},
   "source": []
  },
  {
   "cell_type": "markdown",
   "metadata": {},
   "source": [
    "# Stretch"
   ]
  },
  {
   "cell_type": "markdown",
   "metadata": {},
   "source": [
    "How can you turn the regression model into a classification model?"
   ]
  },
  {
   "cell_type": "code",
   "execution_count": null,
   "metadata": {},
   "outputs": [],
   "source": []
  }
 ],
 "metadata": {
  "kernelspec": {
   "display_name": "panda",
   "language": "python",
   "name": "python3"
  },
  "language_info": {
   "codemirror_mode": {
    "name": "ipython",
    "version": 3
   },
   "file_extension": ".py",
   "mimetype": "text/x-python",
   "name": "python",
   "nbconvert_exporter": "python",
   "pygments_lexer": "ipython3",
   "version": "3.13.5"
  }
 },
 "nbformat": 4,
 "nbformat_minor": 4
}
