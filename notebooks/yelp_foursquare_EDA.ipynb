{
 "cells": [
  {
   "cell_type": "code",
   "execution_count": 6,
   "metadata": {},
   "outputs": [],
   "source": [
    "# imports\n",
    "\n",
    "import requests\n",
    "import json\n",
    "import pandas as pd\n",
    "import csv\n",
    "from time import sleep\n"
   ]
  },
  {
   "cell_type": "markdown",
   "metadata": {},
   "source": [
    "### Toronto's (Bixi-Toronto) bike stations."
   ]
  },
  {
   "cell_type": "code",
   "execution_count": 2,
   "metadata": {},
   "outputs": [],
   "source": [
    "# READ THE FULL LIST OF CITY BIKE STATIONS FROM CSV\n",
    "city_bikes_df = pd.read_csv(\"../csv_folder/city_bikes_df.csv\")"
   ]
  },
  {
   "cell_type": "markdown",
   "metadata": {},
   "source": [
    "### NOT EXECUTED - Shrink the radius of city bike stations to latitude 43.64"
   ]
  },
  {
   "cell_type": "code",
   "execution_count": null,
   "metadata": {},
   "outputs": [],
   "source": [
    "# FILTER DOWN CITY BIKE DATA FRAME TO LATITUDE 43.46\n",
    "\n",
    "# city_bikes_downtown_df = city_bikes_df[city_bikes_df['latitude'].astype(str).str.contains(\"43.64\")]\n",
    "\n",
    "\n",
    "# UPLOAD THE 43.64 DATAFRAME TO CSV\n",
    "# city_bikes_downtown_df.to_csv(\"../csv_folder/city_bikes_downtown_df.csv\", index=False)"
   ]
  },
  {
   "cell_type": "code",
   "execution_count": 1,
   "metadata": {},
   "outputs": [],
   "source": [
    "# # CHECK FOR NULLS\n",
    "# city_bikes_downtown_df.isnull().sum()"
   ]
  },
  {
   "cell_type": "code",
   "execution_count": 11,
   "metadata": {},
   "outputs": [
    {
     "data": {
      "text/html": [
       "<div>\n",
       "<style scoped>\n",
       "    .dataframe tbody tr th:only-of-type {\n",
       "        vertical-align: middle;\n",
       "    }\n",
       "\n",
       "    .dataframe tbody tr th {\n",
       "        vertical-align: top;\n",
       "    }\n",
       "\n",
       "    .dataframe thead th {\n",
       "        text-align: right;\n",
       "    }\n",
       "</style>\n",
       "<table border=\"1\" class=\"dataframe\">\n",
       "  <thead>\n",
       "    <tr style=\"text-align: right;\">\n",
       "      <th></th>\n",
       "      <th>name</th>\n",
       "      <th>latitude</th>\n",
       "      <th>longitude</th>\n",
       "      <th>timestamp</th>\n",
       "      <th>free_bikes</th>\n",
       "      <th>empty_slots</th>\n",
       "      <th>renting</th>\n",
       "      <th>returning</th>\n",
       "      <th>ebikes</th>\n",
       "    </tr>\n",
       "  </thead>\n",
       "  <tbody>\n",
       "    <tr>\n",
       "      <th>0</th>\n",
       "      <td>Summerhill Ave / Maclennan Ave</td>\n",
       "      <td>43.685924</td>\n",
       "      <td>-79.376304</td>\n",
       "      <td>2025-07-28T22:39:27.286065+00:00Z</td>\n",
       "      <td>4</td>\n",
       "      <td>4</td>\n",
       "      <td>1</td>\n",
       "      <td>1</td>\n",
       "      <td>1</td>\n",
       "    </tr>\n",
       "    <tr>\n",
       "      <th>1</th>\n",
       "      <td>Queen St E / Joseph Duggan Rd</td>\n",
       "      <td>43.667763</td>\n",
       "      <td>-79.308117</td>\n",
       "      <td>2025-07-28T22:39:27.288543+00:00Z</td>\n",
       "      <td>16</td>\n",
       "      <td>1</td>\n",
       "      <td>1</td>\n",
       "      <td>1</td>\n",
       "      <td>5</td>\n",
       "    </tr>\n",
       "    <tr>\n",
       "      <th>2</th>\n",
       "      <td>Victoria Park Ave / Danforth Ave</td>\n",
       "      <td>43.691468</td>\n",
       "      <td>-79.288619</td>\n",
       "      <td>2025-07-28T22:39:27.287666+00:00Z</td>\n",
       "      <td>2</td>\n",
       "      <td>16</td>\n",
       "      <td>1</td>\n",
       "      <td>1</td>\n",
       "      <td>0</td>\n",
       "    </tr>\n",
       "    <tr>\n",
       "      <th>3</th>\n",
       "      <td>Navy Wharf Crt / Bremner Blvd</td>\n",
       "      <td>43.640722</td>\n",
       "      <td>-79.391051</td>\n",
       "      <td>2025-07-28T22:39:27.134271+00:00Z</td>\n",
       "      <td>1</td>\n",
       "      <td>5</td>\n",
       "      <td>1</td>\n",
       "      <td>1</td>\n",
       "      <td>0</td>\n",
       "    </tr>\n",
       "    <tr>\n",
       "      <th>4</th>\n",
       "      <td>420 Wellington St W</td>\n",
       "      <td>43.643834</td>\n",
       "      <td>-79.396649</td>\n",
       "      <td>2025-07-28T22:39:27.135699+00:00Z</td>\n",
       "      <td>2</td>\n",
       "      <td>6</td>\n",
       "      <td>1</td>\n",
       "      <td>1</td>\n",
       "      <td>0</td>\n",
       "    </tr>\n",
       "    <tr>\n",
       "      <th>...</th>\n",
       "      <td>...</td>\n",
       "      <td>...</td>\n",
       "      <td>...</td>\n",
       "      <td>...</td>\n",
       "      <td>...</td>\n",
       "      <td>...</td>\n",
       "      <td>...</td>\n",
       "      <td>...</td>\n",
       "      <td>...</td>\n",
       "    </tr>\n",
       "    <tr>\n",
       "      <th>932</th>\n",
       "      <td>457 King St W</td>\n",
       "      <td>43.645209</td>\n",
       "      <td>-79.396074</td>\n",
       "      <td>2025-07-28T22:39:27.185775+00:00Z</td>\n",
       "      <td>7</td>\n",
       "      <td>10</td>\n",
       "      <td>1</td>\n",
       "      <td>1</td>\n",
       "      <td>0</td>\n",
       "    </tr>\n",
       "    <tr>\n",
       "      <th>933</th>\n",
       "      <td>Danforth Ave / Coxwell Ave</td>\n",
       "      <td>43.683378</td>\n",
       "      <td>-79.322961</td>\n",
       "      <td>2025-07-28T22:39:27.134872+00:00Z</td>\n",
       "      <td>15</td>\n",
       "      <td>0</td>\n",
       "      <td>1</td>\n",
       "      <td>1</td>\n",
       "      <td>6</td>\n",
       "    </tr>\n",
       "    <tr>\n",
       "      <th>934</th>\n",
       "      <td>Bloor St W / Brock Ave</td>\n",
       "      <td>43.658988</td>\n",
       "      <td>-79.438715</td>\n",
       "      <td>2025-07-28T22:39:27.288153+00:00Z</td>\n",
       "      <td>5</td>\n",
       "      <td>5</td>\n",
       "      <td>1</td>\n",
       "      <td>1</td>\n",
       "      <td>2</td>\n",
       "    </tr>\n",
       "    <tr>\n",
       "      <th>935</th>\n",
       "      <td>Wells Hill Ave / St. Clair Ave W</td>\n",
       "      <td>43.683351</td>\n",
       "      <td>-79.415620</td>\n",
       "      <td>2025-07-28T22:39:27.186412+00:00Z</td>\n",
       "      <td>1</td>\n",
       "      <td>14</td>\n",
       "      <td>1</td>\n",
       "      <td>1</td>\n",
       "      <td>1</td>\n",
       "    </tr>\n",
       "    <tr>\n",
       "      <th>936</th>\n",
       "      <td>Bay St / Dundas St W</td>\n",
       "      <td>43.655351</td>\n",
       "      <td>-79.383460</td>\n",
       "      <td>2025-07-28T22:39:27.290038+00:00Z</td>\n",
       "      <td>12</td>\n",
       "      <td>41</td>\n",
       "      <td>1</td>\n",
       "      <td>1</td>\n",
       "      <td>0</td>\n",
       "    </tr>\n",
       "  </tbody>\n",
       "</table>\n",
       "<p>937 rows × 9 columns</p>\n",
       "</div>"
      ],
      "text/plain": [
       "                                 name   latitude  longitude  \\\n",
       "0      Summerhill Ave / Maclennan Ave  43.685924 -79.376304   \n",
       "1       Queen St E / Joseph Duggan Rd  43.667763 -79.308117   \n",
       "2    Victoria Park Ave / Danforth Ave  43.691468 -79.288619   \n",
       "3       Navy Wharf Crt / Bremner Blvd  43.640722 -79.391051   \n",
       "4                 420 Wellington St W  43.643834 -79.396649   \n",
       "..                                ...        ...        ...   \n",
       "932                     457 King St W  43.645209 -79.396074   \n",
       "933        Danforth Ave / Coxwell Ave  43.683378 -79.322961   \n",
       "934            Bloor St W / Brock Ave  43.658988 -79.438715   \n",
       "935  Wells Hill Ave / St. Clair Ave W  43.683351 -79.415620   \n",
       "936              Bay St / Dundas St W  43.655351 -79.383460   \n",
       "\n",
       "                             timestamp  free_bikes  empty_slots  renting  \\\n",
       "0    2025-07-28T22:39:27.286065+00:00Z           4            4        1   \n",
       "1    2025-07-28T22:39:27.288543+00:00Z          16            1        1   \n",
       "2    2025-07-28T22:39:27.287666+00:00Z           2           16        1   \n",
       "3    2025-07-28T22:39:27.134271+00:00Z           1            5        1   \n",
       "4    2025-07-28T22:39:27.135699+00:00Z           2            6        1   \n",
       "..                                 ...         ...          ...      ...   \n",
       "932  2025-07-28T22:39:27.185775+00:00Z           7           10        1   \n",
       "933  2025-07-28T22:39:27.134872+00:00Z          15            0        1   \n",
       "934  2025-07-28T22:39:27.288153+00:00Z           5            5        1   \n",
       "935  2025-07-28T22:39:27.186412+00:00Z           1           14        1   \n",
       "936  2025-07-28T22:39:27.290038+00:00Z          12           41        1   \n",
       "\n",
       "     returning  ebikes  \n",
       "0            1       1  \n",
       "1            1       5  \n",
       "2            1       0  \n",
       "3            1       0  \n",
       "4            1       0  \n",
       "..         ...     ...  \n",
       "932          1       0  \n",
       "933          1       6  \n",
       "934          1       2  \n",
       "935          1       1  \n",
       "936          1       0  \n",
       "\n",
       "[937 rows x 9 columns]"
      ]
     },
     "execution_count": 11,
     "metadata": {},
     "output_type": "execute_result"
    }
   ],
   "source": [
    "city_bikes_df = pd.read_csv(\"../csv_folder/city_bikes_df.csv\", index_col=0)\n",
    "city_bikes_df"
   ]
  },
  {
   "cell_type": "markdown",
   "metadata": {},
   "source": [
    "Parse through the response to get the POI (such as restaurants, bars, etc) details you want (ratings, name, location, etc)"
   ]
  },
  {
   "cell_type": "code",
   "execution_count": null,
   "metadata": {},
   "outputs": [],
   "source": [
    "\n",
    "# CATEGORIES = PARK, BAR, RESTAURANT\n",
    "categories = \"4bf58dd8d48988d163941735,4bf58dd8d48988d116941735,4d4b7105d754a06374d81259\"\n",
    "\n",
    "\n",
    "#FOURSQUARE API KEY FROM FILE\n",
    "with open(\"/Users/lhl/Documents/Stuff/foursquare_key.txt\") as f:\n",
    "    FOURSQUARE_KEY = f.read().strip()\n",
    "\n",
    "headers = {\n",
    "    \"Accept\": \"application/json;version=2023-08-01\",\n",
    "    \"Authorization\": f\"Bearer {FOURSQUARE_KEY}\",\n",
    "    \"X-Places-Api-Version\": \"2025-06-17\"\n",
    "}\n",
    "\n",
    "# HELPER FUNCTION TO CALL API URL\n",
    "def get_venues_fs(latitude, longitude, radius, categories):\n",
    "    return f\"https://places-api.foursquare.com/places/search?ll={latitude},{longitude}&radius={radius}&fsq_category_ids={categories}\"\n",
    "\n",
    "# STORE RESULTS IN A LIST\n",
    "fsqr_results = []\n",
    "\n",
    "# FOR EACH ROW IN CITYBIKE DATAFRAME, MAKE A CALL TO FOURSQUARE AND GATHER POI DETAILS\n",
    "for i, row in city_bikes_df.iterrows():\n",
    "    lat = row['latitude']\n",
    "    lon = row['longitude']\n",
    "    station_id = row.name # INDEX\n",
    "\n",
    "    url = get_venues_fs(lat, lon, 1000, categories)  # USE THE FUNCTION FROM ABOVE\n",
    "    response = requests.get(url, headers=headers)\n",
    "\n",
    "    if response.status_code == 200:   # CHECK FOR SUCCESSFUL CONNECTION\n",
    "        data = response.json()\n",
    "        for place in data.get('results', []):\n",
    "            fsqr_results.append({    # POI DETAILS\n",
    "                'station_id': station_id,\n",
    "                'place_name': place['name'],\n",
    "                'latitude': place['latitude'],\n",
    "                'longitude': place['longitude'],\n",
    "                'address': place['location'].get('formatted_address', ''),\n",
    "                'categories': [c['name'] for c in place.get('categories', [])]\n",
    "            })\n",
    "    else:\n",
    "        print(f\"Error at index {station_id}: {response.status_code}\")"
   ]
  },
  {
   "cell_type": "markdown",
   "metadata": {},
   "source": [
    "Put your parsed results into a DataFrame"
   ]
  },
  {
   "cell_type": "code",
   "execution_count": null,
   "metadata": {},
   "outputs": [],
   "source": [
    "# STORE RESULTS IN DATAFRAME\n",
    "fsqr_df = pd.DataFrame(fsqr_results)\n",
    "\n",
    "# UPLOAD DATAFRAME TO CSV\n",
    "fsqr_df.to_csv(\"../csv_folder/fsqr_response_df.csv\")"
   ]
  },
  {
   "cell_type": "code",
   "execution_count": 14,
   "metadata": {},
   "outputs": [
    {
     "data": {
      "text/plain": [
       "categories\n",
       "Park                    1253\n",
       "Bar                      693\n",
       "Restaurant               686\n",
       "Fast Food Restaurant     551\n",
       "Italian Restaurant       481\n",
       "                        ... \n",
       "Mac and Cheese Joint       1\n",
       "Piano Bar                  1\n",
       "Soccer Field               1\n",
       "Syrian Restaurant          1\n",
       "Empanada Restaurant        1\n",
       "Name: count, Length: 205, dtype: int64"
      ]
     },
     "execution_count": 14,
     "metadata": {},
     "output_type": "execute_result"
    }
   ],
   "source": [
    "fsqr_df.head()\n",
    "fsqr_df['categories'].explode().value_counts()"
   ]
  },
  {
   "cell_type": "markdown",
   "metadata": {},
   "source": [
    "# Yelp"
   ]
  },
  {
   "cell_type": "markdown",
   "metadata": {},
   "source": [
    "# AS YELP REQUIRES A BUSINESS EMAIL FOR TRIAL SUBSCRIPTION, THIS WAS NOT EXCECUTED "
   ]
  },
  {
   "cell_type": "markdown",
   "metadata": {},
   "source": [
    "Send a request to Yelp with a small radius (1000m) for all the bike stations in your city of choice. "
   ]
  },
  {
   "cell_type": "code",
   "execution_count": null,
   "metadata": {},
   "outputs": [],
   "source": []
  },
  {
   "cell_type": "markdown",
   "metadata": {},
   "source": [
    "Parse through the response to get the POI (such as restaurants, bars, etc) details you want (ratings, name, location, etc)"
   ]
  },
  {
   "cell_type": "code",
   "execution_count": null,
   "metadata": {},
   "outputs": [],
   "source": []
  },
  {
   "cell_type": "markdown",
   "metadata": {},
   "source": [
    "Put your parsed results into a DataFrame"
   ]
  },
  {
   "cell_type": "markdown",
   "metadata": {},
   "source": []
  },
  {
   "cell_type": "markdown",
   "metadata": {},
   "source": [
    "# Comparing Results"
   ]
  },
  {
   "cell_type": "markdown",
   "metadata": {},
   "source": [
    "Which API provided you with more complete data? Provide an explanation. "
   ]
  },
  {
   "cell_type": "markdown",
   "metadata": {},
   "source": []
  },
  {
   "cell_type": "markdown",
   "metadata": {},
   "source": [
    "Get the top 10 restaurants according to their rating"
   ]
  },
  {
   "cell_type": "code",
   "execution_count": null,
   "metadata": {},
   "outputs": [],
   "source": []
  }
 ],
 "metadata": {
  "kernelspec": {
   "display_name": "panda",
   "language": "python",
   "name": "python3"
  },
  "language_info": {
   "codemirror_mode": {
    "name": "ipython",
    "version": 3
   },
   "file_extension": ".py",
   "mimetype": "text/x-python",
   "name": "python",
   "nbconvert_exporter": "python",
   "pygments_lexer": "ipython3",
   "version": "3.13.5"
  }
 },
 "nbformat": 4,
 "nbformat_minor": 4
}
